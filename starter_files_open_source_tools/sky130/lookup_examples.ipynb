{
 "cells": [
  {
   "cell_type": "code",
   "execution_count": 41,
   "metadata": {},
   "outputs": [],
   "source": [
    "from pygmid import Lookup as lk\n",
    "import numpy as np\n",
    "import scipy.constants as sc"
   ]
  },
  {
   "cell_type": "markdown",
   "metadata": {},
   "source": [
    "### Lookup usage mode overview\n",
    "\n",
    "(1) Simple lookup of parameters at some given (L, VGS, VDS, VSB)  \n",
    "(2) Lookup of arbitrary ratios of parameters, e.g. GM_ID, GM_CGG at given (L, VGS, VDS, VSB)  \n",
    "(3) Cross-lookup of one ratio against another, e.g. GM_CGG for some GM_ID  "
   ]
  },
  {
   "cell_type": "code",
   "execution_count": 42,
   "metadata": {},
   "outputs": [],
   "source": [
    "# read data for SKY130 NMOS and PMOS device\n",
    "# the range of channel lengths is 0.15 to 3\n",
    "# the range for VGS, VDS is 0 to 1.8\n",
    "n = lk('./simulation/nfet_01v8.mat')\n",
    "p = lk('./simulation/pfet_01v8.mat')"
   ]
  },
  {
   "cell_type": "code",
   "execution_count": 43,
   "metadata": {},
   "outputs": [
    {
     "name": "stdout",
     "output_type": "stream",
     "text": [
      "0.0 1.8\n",
      "0.15 3.0\n"
     ]
    }
   ],
   "source": [
    "# the ranges of the index variables can be checked as folllows\n",
    "VGS_array = n['VGS']\n",
    "L_array = n['L']\n",
    "print(min(VGS_array), max(VGS_array))\n",
    "print(min(L_array), max(L_array))"
   ]
  },
  {
   "cell_type": "code",
   "execution_count": 44,
   "metadata": {},
   "outputs": [
    {
     "name": "stdout",
     "output_type": "stream",
     "text": [
      "2.132 0.5107999999999999\n"
     ]
    }
   ],
   "source": [
    "# basic example of usage mode 1\n",
    "gm_n = n.lookup('GM', L=0.15, VGS=1, VDS=0.9, VSB=0)\n",
    "gm_p = p.lookup('GM', L=0.15, VGS=1, VDS=0.9, VSB=0)\n",
    "print(gm_n/1e-3, gm_p/1e-3)"
   ]
  },
  {
   "cell_type": "code",
   "execution_count": 45,
   "metadata": {},
   "outputs": [
    {
     "name": "stdout",
     "output_type": "stream",
     "text": [
      "2.132 0.5107999999999999\n"
     ]
    }
   ],
   "source": [
    "# when not specified, the following defaults are used: minimum L, VDS=max(vds)/2 and VSB=0\n",
    "gm_n = n.lookup('GM', VGS=1)\n",
    "gm_p = p.lookup('GM', VGS=1)\n",
    "print(gm_n/1e-3, gm_p/1e-3)"
   ]
  },
  {
   "cell_type": "code",
   "execution_count": 46,
   "metadata": {},
   "outputs": [
    {
     "name": "stdout",
     "output_type": "stream",
     "text": [
      "0.7098 0.6989\n"
     ]
    }
   ],
   "source": [
    "# threshold voltages\n",
    "vt_n = n.lookup('VT', VGS=1)\n",
    "vt_p = p.lookup('VT', VGS=1)\n",
    "print(vt_n, vt_p)"
   ]
  },
  {
   "cell_type": "code",
   "execution_count": 47,
   "metadata": {},
   "outputs": [
    {
     "name": "stdout",
     "output_type": "stream",
     "text": [
      "12.080308529945555 11.498194945848375\n"
     ]
    }
   ],
   "source": [
    "# looking up a ratio for given gate bias (usage mode 2)\n",
    "gm_id_n = n.lookup('GM_ID', VGS=0.8)\n",
    "gm_id_p = p.lookup('GM_ID', VGS=0.8)\n",
    "print(gm_id_n, gm_id_p)"
   ]
  },
  {
   "cell_type": "code",
   "execution_count": 48,
   "metadata": {},
   "outputs": [
    {
     "name": "stdout",
     "output_type": "stream",
     "text": [
      "1.7632e-05 3.324e-06\n"
     ]
    }
   ],
   "source": [
    "# current density in A/um\n",
    "jd_n = n.lookup('ID_W', VGS=0.8)\n",
    "jd_p = p.lookup('ID_W', VGS=0.8)\n",
    "print(jd_n, jd_p)"
   ]
  },
  {
   "cell_type": "code",
   "execution_count": 49,
   "metadata": {},
   "outputs": [
    {
     "name": "stdout",
     "output_type": "stream",
     "text": [
      "35.93517653170295 7.823497638781684\n"
     ]
    }
   ],
   "source": [
    "# looking up a ratio against another ratio (usage mode 3)\n",
    "gm_cgg_n = n.lookup('GM_CGG', GM_ID=10)\n",
    "gm_cgg_p = p.lookup('GM_CGG', GM_ID=10)\n",
    "print(gm_cgg_n/2/np.pi/1e9, gm_cgg_p/2/np.pi/1e9)"
   ]
  },
  {
   "cell_type": "code",
   "execution_count": 50,
   "metadata": {},
   "outputs": [
    {
     "name": "stdout",
     "output_type": "stream",
     "text": [
      "1.152002642324426 1.0535719254638651\n"
     ]
    }
   ],
   "source": [
    "# gamma factor for thermal noise\n",
    "gamma_n = n.lookup('STH', VGS=1) /4/sc.Boltzmann/300/n.lookup('GM', VGS=1)\n",
    "gamma_p = p.lookup('STH', VGS=1) /4/sc.Boltzmann/300/p.lookup('GM', VGS=1)\n",
    "print(gamma_n, gamma_p)"
   ]
  },
  {
   "cell_type": "code",
   "execution_count": 51,
   "metadata": {},
   "outputs": [
    {
     "name": "stdout",
     "output_type": "stream",
     "text": [
      "3.0979831144465283e-13 3.082424432263118e-14\n"
     ]
    }
   ],
   "source": [
    "# gate-referred 1/f noise PSD at 1Hz\n",
    "sfl_gate_n = n.lookup('SFL_GM', VGS=1)\n",
    "sfl_gate_p = p.lookup('SFL_GM', VGS=1)\n",
    "print(sfl_gate_n, sfl_gate_p)"
   ]
  }
 ],
 "metadata": {
  "kernelspec": {
   "display_name": ".venv",
   "language": "python",
   "name": "python3"
  },
  "language_info": {
   "codemirror_mode": {
    "name": "ipython",
    "version": 3
   },
   "file_extension": ".py",
   "mimetype": "text/x-python",
   "name": "python",
   "nbconvert_exporter": "python",
   "pygments_lexer": "ipython3",
   "version": "3.12.3"
  }
 },
 "nbformat": 4,
 "nbformat_minor": 2
}
