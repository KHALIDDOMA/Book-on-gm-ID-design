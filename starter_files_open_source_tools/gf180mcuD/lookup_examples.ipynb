{
 "cells": [
  {
   "cell_type": "code",
   "execution_count": 1,
   "metadata": {},
   "outputs": [],
   "source": [
    "from pygmid import Lookup as lk\n",
    "import numpy as np\n",
    "import scipy.constants as sc"
   ]
  },
  {
   "cell_type": "markdown",
   "metadata": {},
   "source": [
    "### Lookup usage mode overview\n",
    "\n",
    "(1) Simple lookup of parameters at some given (L, VGS, VDS, VSB)  \n",
    "(2) Lookup of arbitrary ratios of parameters, e.g. GM_ID, GM_CGG at given (L, VGS, VDS, VSB)  \n",
    "(3) Cross-lookup of one ratio against another, e.g. GM_CGG for some GM_ID  "
   ]
  },
  {
   "cell_type": "code",
   "execution_count": 2,
   "metadata": {},
   "outputs": [],
   "source": [
    "# read data for GF180MCU NMOS and PMOS device\n",
    "# the range of channel lengths is 0.28 to 3\n",
    "# the range for VGS, VDS is 0 to 3.3\n",
    "n = lk('./simulation/nfet_03v3.mat')\n",
    "p = lk('./simulation/pfet_03v3.mat')\n",
    "n_05v0 = lk('./simulation/nfet_05v0.mat')\n",
    "p_05v0 = lk('./simulation/pfet_05v0.mat')"
   ]
  },
  {
   "cell_type": "code",
   "execution_count": 3,
   "metadata": {},
   "outputs": [
    {
     "name": "stdout",
     "output_type": "stream",
     "text": [
      "Ranges 3V3 NMOS and PMOS:\n",
      "0.0 3.3\n",
      "0.28 3.0\n",
      "Ranges 5V NMOS:\n",
      "0.0 5.0\n",
      "0.6 3.0\n",
      "Ranges 5V PMOS:\n",
      "0.0 5.0\n",
      "0.5 3.0\n"
     ]
    }
   ],
   "source": [
    "# the ranges of the index variables can be checked as folllows\n",
    "# Nmos and Pmos low voltage\n",
    "VGS_array = n['VGS']\n",
    "L_array = n['L']\n",
    "print(\"Ranges 3V3 NMOS and PMOS:\")\n",
    "print(min(VGS_array), max(VGS_array))\n",
    "print(min(L_array), max(L_array))\n",
    "\n",
    "# Nmos high voltage\n",
    "VGS_array_n_05v0 = n_05v0['VGS']\n",
    "L_array_n_05v0 = n_05v0['L']\n",
    "print(\"Ranges 5V NMOS:\")\n",
    "print(min(VGS_array_n_05v0), max(VGS_array_n_05v0))\n",
    "print(min(L_array_n_05v0), max(L_array_n_05v0))\n",
    "\n",
    "# Pmos high voltage\n",
    "VGS_array_p_05v0 = p_05v0['VGS']\n",
    "L_array_p_05v0 = p_05v0['L']\n",
    "print(\"Ranges 5V PMOS:\")\n",
    "print(min(VGS_array_p_05v0), max(VGS_array_p_05v0))\n",
    "print(min(L_array_p_05v0), max(L_array_p_05v0))"
   ]
  },
  {
   "cell_type": "code",
   "execution_count": 4,
   "metadata": {},
   "outputs": [
    {
     "name": "stdout",
     "output_type": "stream",
     "text": [
      "0.7182 0.2127\n",
      "0.3101 0.06462\n"
     ]
    }
   ],
   "source": [
    "# basic example of usage mode 1\n",
    "gm_n = n.lookup('GM', L=0.28, VGS=1, VDS=1.65, VSB=0)\n",
    "gm_p = p.lookup('GM', L=0.28, VGS=1, VDS=1.65, VSB=0)\n",
    "gm_n_05v0 = n_05v0.lookup('GM', L=0.6, VGS=1, VDS=2.5, VSB=0)\n",
    "gm_p_05v0 = p_05v0.lookup('GM', L=0.5, VGS=1, VDS=2.5, VSB=0)\n",
    "print(gm_n/1e-3, gm_p/1e-3)\n",
    "print(gm_n_05v0/1e-3, gm_p_05v0/1e-3)"
   ]
  },
  {
   "cell_type": "code",
   "execution_count": 5,
   "metadata": {},
   "outputs": [
    {
     "name": "stdout",
     "output_type": "stream",
     "text": [
      "0.7182 0.2127\n",
      "0.3101 0.06462\n"
     ]
    }
   ],
   "source": [
    "# when not specified, the following defaults are used: minimum L, VDS=max(vds)/2 and VSB=0\n",
    "gm_n = n.lookup('GM', VGS=1)\n",
    "gm_p = p.lookup('GM', VGS=1)\n",
    "gm_n_05v0 = n_05v0.lookup('GM', VGS=1)\n",
    "gm_p_05v0 = p_05v0.lookup('GM', VGS=1)\n",
    "print(gm_n/1e-3, gm_p/1e-3)\n",
    "print(gm_n_05v0/1e-3, gm_p_05v0/1e-3)"
   ]
  },
  {
   "cell_type": "code",
   "execution_count": 6,
   "metadata": {},
   "outputs": [
    {
     "name": "stdout",
     "output_type": "stream",
     "text": [
      "0.6235 0.7222\n",
      "0.7118 0.8155\n"
     ]
    }
   ],
   "source": [
    "# threshold voltages\n",
    "vt_n = n.lookup('VT', VGS=1)\n",
    "vt_p = p.lookup('VT', VGS=1)\n",
    "vt_n_05v0 = n_05v0.lookup('VT', VGS=1)\n",
    "vt_p_05v0 = p_05v0.lookup('VT', VGS=1)\n",
    "print(vt_n, vt_p)\n",
    "print(vt_n_05v0, vt_p_05v0)"
   ]
  },
  {
   "cell_type": "code",
   "execution_count": 7,
   "metadata": {},
   "outputs": [
    {
     "name": "stdout",
     "output_type": "stream",
     "text": [
      "7.600260841212911 13.700234192037472\n",
      "10.52439024390244 19.94600738846263\n"
     ]
    }
   ],
   "source": [
    "# looking up a ratio for given gate bias (usage mode 2)\n",
    "gm_id_n = n.lookup('GM_ID', VGS=0.8)\n",
    "gm_id_p = p.lookup('GM_ID', VGS=0.8)\n",
    "gm_id_n_05v0 = n_05v0.lookup('GM_ID', VGS=0.8)\n",
    "gm_id_p_05v0 = p_05v0.lookup('GM_ID', VGS=0.8)\n",
    "print(gm_id_n, gm_id_p)\n",
    "print(gm_id_n_05v0, gm_id_p_05v0)"
   ]
  },
  {
   "cell_type": "code",
   "execution_count": 8,
   "metadata": {},
   "outputs": [
    {
     "name": "stdout",
     "output_type": "stream",
     "text": [
      "1.2268000000000002e-05 1.1102e-06\n",
      "3.28e-06 7.038e-08\n"
     ]
    }
   ],
   "source": [
    "# current density in A/um\n",
    "jd_n = n.lookup('ID_W', VGS=0.8)\n",
    "jd_p = p.lookup('ID_W', VGS=0.8)\n",
    "jd_n_05v0 = n_05v0.lookup('ID_W', VGS=0.8)\n",
    "jd_p_05v0 = p_05v0.lookup('ID_W', VGS=0.8)\n",
    "print(jd_n, jd_p)\n",
    "print(jd_n_05v0, jd_p_05v0)"
   ]
  },
  {
   "cell_type": "code",
   "execution_count": 9,
   "metadata": {},
   "outputs": [
    {
     "name": "stdout",
     "output_type": "stream",
     "text": [
      "9.92368347842656 3.386535306180778\n",
      "4.832221061480463 1.6838801150347875\n"
     ]
    }
   ],
   "source": [
    "# looking up a ratio against another ratio (usage mode 3)\n",
    "gm_cgg_n = n.lookup('GM_CGG', GM_ID=10)\n",
    "gm_cgg_p = p.lookup('GM_CGG', GM_ID=10)\n",
    "gm_cgg_n_05v0 = n_05v0.lookup('GM_CGG', GM_ID=10)\n",
    "gm_cgg_p_05v0 = p_05v0.lookup('GM_CGG', GM_ID=10)\n",
    "print(gm_cgg_n/2/np.pi/1e9, gm_cgg_p/2/np.pi/1e9)\n",
    "print(gm_cgg_n_05v0/2/np.pi/1e9, gm_cgg_p_05v0/2/np.pi/1e9)"
   ]
  },
  {
   "cell_type": "code",
   "execution_count": 10,
   "metadata": {},
   "outputs": [
    {
     "name": "stdout",
     "output_type": "stream",
     "text": [
      "0.9369640082690324 0.7048235518119247\n",
      "0.2848378162254513 0.23442298312779622\n"
     ]
    }
   ],
   "source": [
    "# gamma factor for thermal noise\n",
    "gamma_n = n.lookup('STH', VGS=1) /4/sc.Boltzmann/300/n.lookup('GM', VGS=1)\n",
    "gamma_p = p.lookup('STH', VGS=1) /4/sc.Boltzmann/300/p.lookup('GM', VGS=1)\n",
    "gamma_n_05v0 = n_05v0.lookup('STH', VGS=1) /4/sc.Boltzmann/300/n.lookup('GM', VGS=1)\n",
    "gamma_p_05v0 = p_05v0.lookup('STH', VGS=1) /4/sc.Boltzmann/300/p.lookup('GM', VGS=1)\n",
    "print(gamma_n, gamma_p)\n",
    "print(gamma_n_05v0, gamma_p_05v0)"
   ]
  },
  {
   "cell_type": "code",
   "execution_count": 11,
   "metadata": {},
   "outputs": [
    {
     "name": "stdout",
     "output_type": "stream",
     "text": [
      "2.895243664717349e-13 7.106978843441466e-14\n",
      "1.8250734924217996e-13 9.261172392448159e-15\n"
     ]
    }
   ],
   "source": [
    "# gate-referred 1/f noise PSD at 1Hz\n",
    "sfl_gate_n = n.lookup('SFL_GM', VGS=1)\n",
    "sfl_gate_p = p.lookup('SFL_GM', VGS=1)\n",
    "sfl_gate_n_05v0 = n_05v0.lookup('SFL_GM', VGS=1)\n",
    "sfl_gate_p_05v0 = p_05v0.lookup('SFL_GM', VGS=1)\n",
    "print(sfl_gate_n, sfl_gate_p)\n",
    "print(sfl_gate_n_05v0, sfl_gate_p_05v0)"
   ]
  }
 ],
 "metadata": {
  "kernelspec": {
   "display_name": "Python 3 (ipykernel)",
   "language": "python",
   "name": "python3"
  },
  "language_info": {
   "codemirror_mode": {
    "name": "ipython",
    "version": 3
   },
   "file_extension": ".py",
   "mimetype": "text/x-python",
   "name": "python",
   "nbconvert_exporter": "python",
   "pygments_lexer": "ipython3",
   "version": "3.13.5"
  }
 },
 "nbformat": 4,
 "nbformat_minor": 4
}
